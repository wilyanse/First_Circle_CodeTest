{
 "cells": [
  {
   "cell_type": "markdown",
   "metadata": {},
   "source": [
    "## Transformation\n",
    "In this Python notebook, I explain the thought process behind implementing the Transformation portion of the exam specifications. The transformation process involves (1) converting email addresses to lowercase, (2) converting product names to uppercase, and (3) calculating the total amount spent by each user.\n",
    "\n",
    "Note that running this Python notebook may result into errors as the directories for this notebook and the original file for `transformation.py` are different. To see the Transformation script, run `transformation.py` from the original directory instead."
   ]
  },
  {
   "cell_type": "markdown",
   "metadata": {},
   "source": [
    "### Importing files\n",
    "The previously processed dataframes are used as the dataframes for the transformation."
   ]
  },
  {
   "cell_type": "markdown",
   "metadata": {},
   "source": [
    "We start by importing the `processing.py` file into `transformation.py` and copy the processed dataframes for us to easily use."
   ]
  },
  {
   "cell_type": "code",
   "execution_count": null,
   "metadata": {},
   "outputs": [],
   "source": [
    "import processing\n",
    "import pandas as pd\n",
    "\n",
    "users = processing.process_users.get_dataframe()\n",
    "transactions = processing.process_transactions.get_dataframe()\n",
    "pricing = processing.process_pricing.get_dataframe()"
   ]
  },
  {
   "cell_type": "markdown",
   "metadata": {},
   "source": [
    "This lets us use the dataframes that were previously processed, ensuring data quality in the pipeline."
   ]
  },
  {
   "cell_type": "markdown",
   "metadata": {},
   "source": [
    "### Converting email addresses to lowercase\n",
    "We convert email addresses from the `users` dataframe to lowercase with a callable function."
   ]
  },
  {
   "cell_type": "code",
   "execution_count": null,
   "metadata": {},
   "outputs": [],
   "source": [
    "def email_lowercase(users):\n",
    "    users['email'] = users['email'].str.lower()\n",
    "\n",
    "email_lowercase(users)"
   ]
  },
  {
   "cell_type": "markdown",
   "metadata": {},
   "source": [
    "The pandas dataframe lets us transform the data as needed by allowing us to use str functions as well."
   ]
  },
  {
   "cell_type": "markdown",
   "metadata": {},
   "source": [
    "### Converting product names to uppercase\n",
    "We convert product names from the `transactions` dataframe to uppercase with a callable function."
   ]
  },
  {
   "cell_type": "code",
   "execution_count": null,
   "metadata": {},
   "outputs": [],
   "source": [
    "def product_upper(transactions):\n",
    "    transactions['product'] = transactions['product'].str.upper()\n",
    "\n",
    "product_upper(transactions)"
   ]
  },
  {
   "cell_type": "markdown",
   "metadata": {},
   "source": [
    "Once again, using string functions and the pandas library, the values are easily converted to uppercase."
   ]
  },
  {
   "cell_type": "markdown",
   "metadata": {},
   "source": [
    "### Summed up expenditures by user\n",
    "We take the `transactions` dataframe and sum up the total amount that each user has spent."
   ]
  },
  {
   "cell_type": "code",
   "execution_count": null,
   "metadata": {},
   "outputs": [],
   "source": [
    "def total_amount(transactions, users):\n",
    "    summed_df = transactions.groupby('user_id')['amount'].sum().reset_index()\n",
    "    merged_df = pd.merge(users, summed_df, on='user_id')\n",
    "\n",
    "total_amount(transactions, users)"
   ]
  },
  {
   "cell_type": "markdown",
   "metadata": {},
   "source": [
    "We sum up the total amount and store it into the `summed_df` which contains two columns, the `user_id` and the summed up `amount`. Since we know from reading ahead in the specifications that the transformed data should look like `Users: user_id, name, email, date_joined, total_spent`, we go ahead and merge the datasets that we have at the moment in order to simply load the data to PostgreSQL for the next section."
   ]
  },
  {
   "cell_type": "markdown",
   "metadata": {},
   "source": [
    "### Summary\n",
    "1. We import the `processing.py` file from the previous section to avoid code repetition.\n",
    "2. We transform the strings in each dataframe using pandas and string manipulation.\n",
    "3. We summed up the amount spent by each user by using the data in the `transactions` table and merging it with the `users` table for data loading in the next section."
   ]
  }
 ],
 "metadata": {
  "kernelspec": {
   "display_name": "venv",
   "language": "python",
   "name": "python3"
  },
  "language_info": {
   "codemirror_mode": {
    "name": "ipython",
    "version": 3
   },
   "file_extension": ".py",
   "mimetype": "text/x-python",
   "name": "python",
   "nbconvert_exporter": "python",
   "pygments_lexer": "ipython3",
   "version": "3.12.2"
  }
 },
 "nbformat": 4,
 "nbformat_minor": 2
}
