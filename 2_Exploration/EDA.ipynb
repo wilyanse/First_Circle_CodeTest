{
 "cells": [
  {
   "cell_type": "markdown",
   "metadata": {},
   "source": [
    "## Exploration\n",
    "\n",
    "In this Python notebook, we look at the dataset as it is using the Pandas library. We store the `transactions.csv` data into a Pandas dataframe in order to perform data exploration."
   ]
  },
  {
   "cell_type": "markdown",
   "metadata": {},
   "source": [
    "## Table of Contents:\n",
    "* [Initial Impressions](#initial-impressions)\n",
    "* [Data Information](#data-information)\n",
    "* [Specific Data Issues](#specific-data-issues)\n",
    "* [Summary](#summary)"
   ]
  },
  {
   "cell_type": "markdown",
   "metadata": {},
   "source": [
    "### Initial impressions\n",
    "\n",
    "For this section, we first look into what we can see from just a gist of the dataset."
   ]
  },
  {
   "cell_type": "code",
   "execution_count": 1,
   "metadata": {},
   "outputs": [
    {
     "data": {
      "text/html": [
       "<div>\n",
       "<style scoped>\n",
       "    .dataframe tbody tr th:only-of-type {\n",
       "        vertical-align: middle;\n",
       "    }\n",
       "\n",
       "    .dataframe tbody tr th {\n",
       "        vertical-align: top;\n",
       "    }\n",
       "\n",
       "    .dataframe thead th {\n",
       "        text-align: right;\n",
       "    }\n",
       "</style>\n",
       "<table border=\"1\" class=\"dataframe\">\n",
       "  <thead>\n",
       "    <tr style=\"text-align: right;\">\n",
       "      <th></th>\n",
       "      <th>trans_id</th>\n",
       "      <th>user_id</th>\n",
       "      <th>product</th>\n",
       "      <th>amount</th>\n",
       "      <th>trans_date</th>\n",
       "    </tr>\n",
       "  </thead>\n",
       "  <tbody>\n",
       "    <tr>\n",
       "      <th>0</th>\n",
       "      <td>1014</td>\n",
       "      <td>1</td>\n",
       "      <td>Samsung TV</td>\n",
       "      <td>599</td>\n",
       "      <td>2022-04-01</td>\n",
       "    </tr>\n",
       "    <tr>\n",
       "      <th>1</th>\n",
       "      <td>1015</td>\n",
       "      <td>2</td>\n",
       "      <td>iPad</td>\n",
       "      <td>499</td>\n",
       "      <td>2022-04-05</td>\n",
       "    </tr>\n",
       "    <tr>\n",
       "      <th>2</th>\n",
       "      <td>1016</td>\n",
       "      <td>3</td>\n",
       "      <td>Macbook</td>\n",
       "      <td>1299</td>\n",
       "      <td>2022-04-10</td>\n",
       "    </tr>\n",
       "    <tr>\n",
       "      <th>3</th>\n",
       "      <td>1017</td>\n",
       "      <td>4</td>\n",
       "      <td>iPhone</td>\n",
       "      <td>999</td>\n",
       "      <td>2022-04-15</td>\n",
       "    </tr>\n",
       "    <tr>\n",
       "      <th>4</th>\n",
       "      <td>1018</td>\n",
       "      <td>5</td>\n",
       "      <td>Samsung TV</td>\n",
       "      <td>599</td>\n",
       "      <td>2022-04-20</td>\n",
       "    </tr>\n",
       "  </tbody>\n",
       "</table>\n",
       "</div>"
      ],
      "text/plain": [
       "   trans_id  user_id     product amount  trans_date\n",
       "0      1014        1  Samsung TV    599  2022-04-01\n",
       "1      1015        2        iPad    499  2022-04-05\n",
       "2      1016        3     Macbook   1299  2022-04-10\n",
       "3      1017        4      iPhone    999  2022-04-15\n",
       "4      1018        5  Samsung TV    599  2022-04-20"
      ]
     },
     "execution_count": 1,
     "metadata": {},
     "output_type": "execute_result"
    }
   ],
   "source": [
    "import pandas as pd\n",
    "\n",
    "path = r'..\\1_DataSources\\data\\transactions-1.csv'\n",
    "df_transaction = pd.read_csv(path)\n",
    "df_transaction.head()"
   ]
  },
  {
   "cell_type": "code",
   "execution_count": 2,
   "metadata": {},
   "outputs": [
    {
     "data": {
      "text/html": [
       "<div>\n",
       "<style scoped>\n",
       "    .dataframe tbody tr th:only-of-type {\n",
       "        vertical-align: middle;\n",
       "    }\n",
       "\n",
       "    .dataframe tbody tr th {\n",
       "        vertical-align: top;\n",
       "    }\n",
       "\n",
       "    .dataframe thead th {\n",
       "        text-align: right;\n",
       "    }\n",
       "</style>\n",
       "<table border=\"1\" class=\"dataframe\">\n",
       "  <thead>\n",
       "    <tr style=\"text-align: right;\">\n",
       "      <th></th>\n",
       "      <th>trans_id</th>\n",
       "      <th>user_id</th>\n",
       "      <th>product</th>\n",
       "      <th>amount</th>\n",
       "      <th>trans_date</th>\n",
       "    </tr>\n",
       "  </thead>\n",
       "  <tbody>\n",
       "    <tr>\n",
       "      <th>79</th>\n",
       "      <td>1093</td>\n",
       "      <td>1</td>\n",
       "      <td>Kindle</td>\n",
       "      <td>89</td>\n",
       "      <td>2024-05-02</td>\n",
       "    </tr>\n",
       "    <tr>\n",
       "      <th>80</th>\n",
       "      <td>1094</td>\n",
       "      <td>2</td>\n",
       "      <td>Samsung TV</td>\n",
       "      <td>599</td>\n",
       "      <td>2024-05-17</td>\n",
       "    </tr>\n",
       "    <tr>\n",
       "      <th>81</th>\n",
       "      <td>1095</td>\n",
       "      <td>3</td>\n",
       "      <td>iPad</td>\n",
       "      <td>499</td>\n",
       "      <td>2024-05-18</td>\n",
       "    </tr>\n",
       "    <tr>\n",
       "      <th>82</th>\n",
       "      <td>1096</td>\n",
       "      <td>4</td>\n",
       "      <td>Macbook</td>\n",
       "      <td>1299</td>\n",
       "      <td>2024-06-01</td>\n",
       "    </tr>\n",
       "    <tr>\n",
       "      <th>83</th>\n",
       "      <td>1097</td>\n",
       "      <td>5</td>\n",
       "      <td>iPhone</td>\n",
       "      <td>999</td>\n",
       "      <td>2024-06-15</td>\n",
       "    </tr>\n",
       "  </tbody>\n",
       "</table>\n",
       "</div>"
      ],
      "text/plain": [
       "    trans_id  user_id     product amount  trans_date\n",
       "79      1093        1      Kindle     89  2024-05-02\n",
       "80      1094        2  Samsung TV    599  2024-05-17\n",
       "81      1095        3        iPad    499  2024-05-18\n",
       "82      1096        4     Macbook   1299  2024-06-01\n",
       "83      1097        5      iPhone    999  2024-06-15"
      ]
     },
     "execution_count": 2,
     "metadata": {},
     "output_type": "execute_result"
    }
   ],
   "source": [
    "df_transaction.tail()"
   ]
  },
  {
   "cell_type": "markdown",
   "metadata": {},
   "source": [
    "Looking at the first and last 5 elements of the data set, we see that the data set is sorted by `trans_id` which has a corresponding `trans_date`. We have the initial assumption that each transaction that is made creates a new row in the csv file that stands as the latest transaction. We test this assumption by checking if it is indeed sorted by `trans_id` and `trans_date`."
   ]
  },
  {
   "cell_type": "code",
   "execution_count": 3,
   "metadata": {},
   "outputs": [
    {
     "data": {
      "text/plain": [
       "True"
      ]
     },
     "execution_count": 3,
     "metadata": {},
     "output_type": "execute_result"
    }
   ],
   "source": [
    "df_transaction['trans_date_datetime'] = pd.to_datetime(df_transaction['trans_date']) # adds a new column for converting the values from trans_date to a datetime data type\n",
    "is_sorted = df_transaction.sort_values(by=['trans_id', 'trans_date_datetime']).equals(df_transaction) # returns True if the sorted dataframe is equal to the original dataframe\n",
    "is_sorted"
   ]
  },
  {
   "cell_type": "markdown",
   "metadata": {},
   "source": [
    "We see that since the sorted dataframe is equal to the original dataframe, then the <strong>assumption does hold true</strong> and we proceed with analyzing the dataframe with this in mind."
   ]
  },
  {
   "cell_type": "markdown",
   "metadata": {},
   "source": [
    "We also note that each `product` has its corresponding `amount`. This makes senses as most products should cost the same, but we take into consideration price changes wherein the price of a product could vary along a certain period of time. We try to see if this applies in the dataset using the code below."
   ]
  },
  {
   "cell_type": "code",
   "execution_count": 4,
   "metadata": {},
   "outputs": [
    {
     "data": {
      "text/plain": [
       "product\n",
       "Kindle         True\n",
       "Macbook       False\n",
       "Samsung TV     True\n",
       "iPad          False\n",
       "iPhone         True\n",
       "Name: amount, dtype: bool"
      ]
     },
     "execution_count": 4,
     "metadata": {},
     "output_type": "execute_result"
    }
   ],
   "source": [
    "consistency_check = df_transaction.groupby('product')['amount'].nunique() == 1 # returns True if each product has a unique value for amount\n",
    "consistency_check"
   ]
  },
  {
   "cell_type": "markdown",
   "metadata": {},
   "source": [
    "Though this assumption holds true for the Kindle, Samsung TV, and iPhone, we do not assume that this holds true for the entire dataset as it does not hold true for the Macbook and the iPad which may have had price changes."
   ]
  },
  {
   "cell_type": "markdown",
   "metadata": {},
   "source": [
    "### Data Information\n",
    "\n",
    "This section looks into the general shape of the data and what it is supposed to look like, assuming there are no errors in the data."
   ]
  },
  {
   "cell_type": "code",
   "execution_count": 5,
   "metadata": {},
   "outputs": [
    {
     "name": "stdout",
     "output_type": "stream",
     "text": [
      "<class 'pandas.core.frame.DataFrame'>\n",
      "RangeIndex: 84 entries, 0 to 83\n",
      "Data columns (total 6 columns):\n",
      " #   Column               Non-Null Count  Dtype         \n",
      "---  ------               --------------  -----         \n",
      " 0   trans_id             84 non-null     int64         \n",
      " 1   user_id              84 non-null     int64         \n",
      " 2   product              84 non-null     object        \n",
      " 3   amount               84 non-null     object        \n",
      " 4   trans_date           83 non-null     object        \n",
      " 5   trans_date_datetime  83 non-null     datetime64[ns]\n",
      "dtypes: datetime64[ns](1), int64(2), object(3)\n",
      "memory usage: 4.1+ KB\n"
     ]
    }
   ],
   "source": [
    "df_transaction.info()"
   ]
  },
  {
   "cell_type": "markdown",
   "metadata": {},
   "source": [
    "We see that `trans_id` and `user_id` are supposed to be integers and that `product` is supposed to be a string, but for `amount` which is supposed to be only float values and `trans_date` which is supposed to be only datetime values, this leads us to think that we would need to convert these columns to their correct format and that there may be errors in the data. We also notice that there are 84 non-null values for all columns but `trans_date` only has 83, leading us to think that there is a missing entry for `trans_date`."
   ]
  },
  {
   "cell_type": "code",
   "execution_count": 6,
   "metadata": {},
   "outputs": [
    {
     "data": {
      "text/plain": [
       "trans_id               84\n",
       "user_id                 9\n",
       "product                 5\n",
       "amount                  7\n",
       "trans_date             83\n",
       "trans_date_datetime    83\n",
       "dtype: int64"
      ]
     },
     "execution_count": 6,
     "metadata": {},
     "output_type": "execute_result"
    }
   ],
   "source": [
    "df_transaction.nunique()"
   ]
  },
  {
   "cell_type": "markdown",
   "metadata": {},
   "source": [
    "Looking at the number of unique values per column, we notice two things. First, that there are 5 values for `products` but with 7 values for `amount`. Of course, this could mean that the pricing of the product changed over time, but this does point us towards thinking that there may also be errors in these columns. Second, that the `trans_id` columns do not match the `trans_date` columns. As previously assumed and concluded before, for every `trans_id` entry, there should also be a corresponding `trans_date` entry. This serves to confirm that there may be a missing value for `trans_date` in one of the rows."
   ]
  },
  {
   "cell_type": "markdown",
   "metadata": {},
   "source": [
    "### Specific Data Issues\n",
    "This section looks into data issues for each column of the dataset. We look into each entry in detail and see where the errors in the dataset lie."
   ]
  },
  {
   "cell_type": "markdown",
   "metadata": {},
   "source": [
    "It was previously mentioned that there may be problems with the `product` and `amount` columns and we look into them by looking at the unique values for both."
   ]
  },
  {
   "cell_type": "code",
   "execution_count": 7,
   "metadata": {},
   "outputs": [
    {
     "data": {
      "text/plain": [
       "array(['Samsung TV', 'iPad', 'Macbook', 'iPhone', 'Kindle'], dtype=object)"
      ]
     },
     "execution_count": 7,
     "metadata": {},
     "output_type": "execute_result"
    }
   ],
   "source": [
    "df_transaction['product'].unique()"
   ]
  },
  {
   "cell_type": "markdown",
   "metadata": {},
   "source": [
    "We see that there is nothing of note for `product`, that each element is a string and that they are all unique without any errors that are too evident."
   ]
  },
  {
   "cell_type": "code",
   "execution_count": 8,
   "metadata": {},
   "outputs": [
    {
     "data": {
      "text/plain": [
       "array(['599', '499', '1299', '999', '89', '2022-10-17', '49..9'],\n",
       "      dtype=object)"
      ]
     },
     "execution_count": 8,
     "metadata": {},
     "output_type": "execute_result"
    }
   ],
   "source": [
    "df_transaction['amount'].unique()"
   ]
  },
  {
   "cell_type": "markdown",
   "metadata": {},
   "source": [
    "We see that for `amount` has 2 incorrect entries, '2022-10-17' and '49..9' which are non-float values. This coincides with the information we obtained earlier where there were 2 extra values for `amount` when compared to `product`. We then go back to one of our initial impressions where each `product` is supposed to only have one value for the `amount` to see if these errors in value caused the inconsistency, or if the Macbook and iPad still had varying prices throughout the dataset."
   ]
  },
  {
   "cell_type": "code",
   "execution_count": 9,
   "metadata": {},
   "outputs": [
    {
     "data": {
      "text/plain": [
       "product\n",
       "Kindle        True\n",
       "Macbook       True\n",
       "Samsung TV    True\n",
       "iPad          True\n",
       "iPhone        True\n",
       "Name: amount, dtype: bool"
      ]
     },
     "execution_count": 9,
     "metadata": {},
     "output_type": "execute_result"
    }
   ],
   "source": [
    "error_amount_values = ['2022-10-17', '49..9']\n",
    "filtered_df = df_transaction[~(df_transaction['amount'].isin(error_amount_values))] # drops the rows with the error values\n",
    "consistency_check = filtered_df.groupby('product')['amount'].nunique() == 1 # returns True if each product value has a unique amount value\n",
    "consistency_check"
   ]
  },
  {
   "cell_type": "markdown",
   "metadata": {},
   "source": [
    "We see that the consistency in the two columns now holds true and conclude that the incorrect entries are the cause for this. Fixing this error in data should be doable, considering that we can obtain the value for `amount` given a `product`. Next, we move on to looking into the missing value for `trans_date` by looking into its non-datetime values."
   ]
  },
  {
   "cell_type": "code",
   "execution_count": 10,
   "metadata": {},
   "outputs": [
    {
     "data": {
      "text/plain": [
       "array([nan], dtype=object)"
      ]
     },
     "execution_count": 10,
     "metadata": {},
     "output_type": "execute_result"
    }
   ],
   "source": [
    "df_transaction['trans_date_datetime'] = pd.to_datetime(df_transaction['trans_date'], errors='coerce') # converts trans_date to datetime format\n",
    "non_datetime_values = df_transaction[df_transaction['trans_date_datetime'].isna()]['trans_date'].unique() # filters to see non-datetime values\n",
    "non_datetime_values"
   ]
  },
  {
   "cell_type": "markdown",
   "metadata": {},
   "source": [
    "We see that instead of having incorrect values similar to `amount`, the `trans_date` column has a missing value in the form of NaT. Unfortunately, since the values for `trans_date` cannot be implied by other aspects of the dataset, the best course of action here would be to drop the rows with nulll `trans_date` values despite losing valuable data. This is because we want good quality data rather than having some data that we are unsure of."
   ]
  },
  {
   "cell_type": "markdown",
   "metadata": {},
   "source": [
    "### Summary\n",
    "1. `transactions-1.csv` contains a list of transactions made with their own unique primary id stored as `trans_id` which needs non-null values for `user_id`, `product`, and `trans_date`.\n",
    "2. For each `product` in a transaction, there is a corresponding `amount` which stays uniform throughout the dataset.\n",
    "3. The ideal datatypes for each column is as follows:\n",
    "    - `trans_id`: int\n",
    "    - `user_id`: int\n",
    "    - `product`: string\n",
    "    - `amount`: float\n",
    "    - `trans_date`: datetime\n",
    "4. The dataset contains 84 entries total, with 1 entry having a null value for the `trans_date` and 2 entries having invalid values for `amount`.\n",
    "5. For null or invalid values in `user_id`, `product`, and `trans_date`, the best course of action is to drop the entry as there is no way to infer the value for each entry.\n",
    "6. For null or invalid values in `amount`, the value can be inferred from previous entries in the dataset. (`pricing.csv` might also be used due to the filename and columns listed in the specs but it is assumed in this context that only the `transactions.csv` file was provided as the dataset)\n",
    "7. For null or invalid values in `trans_id`, there might be a workaround that involves obtaining a unique id of its own by incrementing the largest value `trans_id` but comprimising the nature of the original dataset of having a pre-sorted CSV file."
   ]
  }
 ],
 "metadata": {
  "kernelspec": {
   "display_name": "venv",
   "language": "python",
   "name": "python3"
  },
  "language_info": {
   "codemirror_mode": {
    "name": "ipython",
    "version": 3
   },
   "file_extension": ".py",
   "mimetype": "text/x-python",
   "name": "python",
   "nbconvert_exporter": "python",
   "pygments_lexer": "ipython3",
   "version": "3.10.9"
  }
 },
 "nbformat": 4,
 "nbformat_minor": 2
}
